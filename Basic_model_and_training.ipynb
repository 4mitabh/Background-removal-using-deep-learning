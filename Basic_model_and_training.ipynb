{
 "cells": [
  {
   "cell_type": "code",
   "execution_count": 1,
   "metadata": {
    "collapsed": true
   },
   "outputs": [],
   "source": [
    "%matplotlib inline\n",
    "%reload_ext autoreload\n",
    "%autoreload 2"
   ]
  },
  {
   "cell_type": "code",
   "execution_count": 2,
   "metadata": {},
   "outputs": [
    {
     "name": "stderr",
     "output_type": "stream",
     "text": [
      "/home/nbuser/.anaconda3/lib/python3.7/site-packages/sklearn/ensemble/weight_boosting.py:29: DeprecationWarning: numpy.core.umath_tests is an internal NumPy module and should not be imported. It will be removed in a future NumPy release.\n",
      "  from numpy.core.umath_tests import inner1d\n"
     ]
    }
   ],
   "source": [
    "from fastai.conv_learner import *\n",
    "from fastai.dataset import *\n",
    "from fastai.models.resnet import vgg_resnet50\n",
    "from fastai.models.unet import *\n",
    "import json"
   ]
  },
  {
   "cell_type": "code",
   "execution_count": 4,
   "metadata": {
    "collapsed": true
   },
   "outputs": [],
   "source": [
    "TRAIN_DN = 'final_train'\n",
    "MASKS_DN = 'final_mask'\n",
    "PATH = Path('/home/nbuser/fastai/old')\n",
    "sz = 128\n",
    "bs = 64\n",
    "nw = 16"
   ]
  },
  {
   "cell_type": "code",
   "execution_count": 5,
   "metadata": {
    "collapsed": true
   },
   "outputs": [],
   "source": [
    "tr_path = Path('project/final_train')\n",
    "msk_path = Path('project/final_mask')\n",
    "train_dir = os.listdir('project/final_train')\n",
    "msk_dir = os.listdir('project/final_mask')\n",
    "#open_image(TRAIN_DN/train_dir[0])\n",
    "ims = [open_image(tr_path/train_dir[i]) for i in range(16)]\n",
    "im_masks = [open_image(msk_path/msk_dir[i]) for i in range(16)]\n",
    "#print(train_dir[:5])\n",
    "#print(msk_dir[-5:])"
   ]
  },
  {
   "cell_type": "code",
   "execution_count": 6,
   "metadata": {
    "collapsed": true
   },
   "outputs": [],
   "source": [
    "class MatchedFilesDataset(FilesDataset):\n",
    "    def __init__(self, fnames, y, transform, path):\n",
    "        self.y=y\n",
    "        assert(len(fnames)==len(y))\n",
    "        super().__init__(fnames, transform, path)\n",
    "    def get_y(self, i): return open_image(os.path.join(self.path, self.y[i]))\n",
    "    def get_c(self): return 0"
   ]
  },
  {
   "cell_type": "code",
   "execution_count": 7,
   "metadata": {
    "collapsed": true
   },
   "outputs": [],
   "source": [
    "x_names = np.array([tr_path/o for o in train_dir])"
   ]
  },
  {
   "cell_type": "code",
   "execution_count": 8,
   "metadata": {
    "collapsed": true
   },
   "outputs": [],
   "source": [
    "y_names = np.array([msk_path/f'{o[:-4]}.png' for o in train_dir])"
   ]
  },
  {
   "cell_type": "code",
   "execution_count": 9,
   "metadata": {},
   "outputs": [
    {
     "name": "stdout",
     "output_type": "stream",
     "text": [
      "[PosixPath('project/final_train/000000028998.jpg') PosixPath('project/final_train/000000023311.jpg')\n",
      " PosixPath('project/final_train/000000569901.jpg') PosixPath('project/final_train/000000050204.jpg')\n",
      " PosixPath('project/final_train/000000545919.jpg')]\n"
     ]
    }
   ],
   "source": [
    "val_idxs = list(range(300))\n",
    "((val_x,trn_x),(val_y,trn_y)) = split_by_idx(val_idxs, x_names, y_names)\n",
    "len(val_x),len(trn_x)\n",
    "print(trn_x[:5])"
   ]
  },
  {
   "cell_type": "code",
   "execution_count": 10,
   "metadata": {
    "collapsed": true
   },
   "outputs": [],
   "source": [
    "aug_tfms = [RandomRotate(4, tfm_y=TfmType.CLASS),\n",
    "            RandomFlip(tfm_y=TfmType.CLASS),\n",
    "            RandomLighting(0.05, 0.05, tfm_y=TfmType.CLASS)]"
   ]
  },
  {
   "cell_type": "code",
   "execution_count": 11,
   "metadata": {
    "collapsed": true
   },
   "outputs": [],
   "source": [
    "tfms = tfms_from_model(resnet34, sz, crop_type=CropType.NO, tfm_y=TfmType.CLASS, aug_tfms=aug_tfms)\n",
    "datasets = ImageData.get_ds(MatchedFilesDataset, (trn_x,trn_y), (val_x,val_y), tfms, path=PATH)\n",
    "md = ImageData(PATH, datasets, bs, num_workers=16, classes=None)\n",
    "denorm = md.trn_ds.denorm"
   ]
  },
  {
   "cell_type": "code",
   "execution_count": 12,
   "metadata": {
    "collapsed": true
   },
   "outputs": [],
   "source": [
    "x,y = next(iter(md.trn_dl))"
   ]
  },
  {
   "cell_type": "code",
   "execution_count": 13,
   "metadata": {},
   "outputs": [
    {
     "data": {
      "text/plain": [
       "(torch.Size([64, 3, 128, 128]), torch.Size([64, 128, 128]))"
      ]
     },
     "execution_count": 13,
     "metadata": {},
     "output_type": "execute_result"
    }
   ],
   "source": [
    "x.shape,y.shape"
   ]
  },
  {
   "cell_type": "code",
   "execution_count": 14,
   "metadata": {
    "collapsed": true
   },
   "outputs": [],
   "source": [
    "f = resnet34\n",
    "cut,lr_cut = model_meta[f]"
   ]
  },
  {
   "cell_type": "code",
   "execution_count": 15,
   "metadata": {
    "collapsed": true
   },
   "outputs": [],
   "source": [
    "def get_base():\n",
    "    layers = cut_model(f(True), cut)\n",
    "    return nn.Sequential(*layers)"
   ]
  },
  {
   "cell_type": "code",
   "execution_count": 16,
   "metadata": {
    "collapsed": true
   },
   "outputs": [],
   "source": [
    "def dice(pred, targs):\n",
    "    pred = (pred>0).float()\n",
    "    return 2. * (pred*targs).sum() / (pred+targs).sum()"
   ]
  },
  {
   "cell_type": "code",
   "execution_count": 17,
   "metadata": {
    "collapsed": true
   },
   "outputs": [],
   "source": [
    "class StdUpsample(nn.Module):\n",
    "    def __init__(self, nin, nout):\n",
    "        super().__init__()\n",
    "        self.conv = nn.ConvTranspose2d(nin, nout, 2, stride=2)\n",
    "        self.bn = nn.BatchNorm2d(nout)\n",
    "        \n",
    "    def forward(self, x): return self.bn(F.relu(self.conv(x)))"
   ]
  },
  {
   "cell_type": "code",
   "execution_count": 18,
   "metadata": {
    "collapsed": true
   },
   "outputs": [],
   "source": [
    "class Upsample34(nn.Module):\n",
    "    def __init__(self, rn):\n",
    "        super().__init__()\n",
    "        self.rn = rn\n",
    "        self.features = nn.Sequential(\n",
    "            rn, nn.ReLU(),\n",
    "            StdUpsample(512,256),\n",
    "            StdUpsample(256,256),\n",
    "            StdUpsample(256,256),\n",
    "            StdUpsample(256,256),\n",
    "            nn.ConvTranspose2d(256, 1, 2, stride=2))\n",
    "        \n",
    "    def forward(self,x): return self.features(x)[:,0]"
   ]
  },
  {
   "cell_type": "code",
   "execution_count": 19,
   "metadata": {
    "collapsed": true
   },
   "outputs": [],
   "source": [
    "class UpsampleModel():\n",
    "    def __init__(self,model,name='upsample'):\n",
    "        self.model,self.name = model,name\n",
    "\n",
    "    def get_layer_groups(self, precompute):\n",
    "        lgs = list(split_by_idxs(children(self.model.rn), [lr_cut]))\n",
    "        return lgs + [children(self.model.features)[1:]]\n",
    "# class UpsampleModel():\n",
    "#     def __init__(self, model, cut_lr, name='upsample'):\n",
    "#         self.model,self.name, self.cut_lr = model, name, cut_lr\n",
    "\n",
    "#     def get_layer_groups(self, precompute):\n",
    "#         lgs = list(split_by_idxs(children(self.model.encoder), [self.cut_lr]))\n",
    "#         return lgs + [children(self.model)[1:]]"
   ]
  },
  {
   "cell_type": "code",
   "execution_count": 20,
   "metadata": {
    "collapsed": true
   },
   "outputs": [],
   "source": [
    "m_base = get_base()"
   ]
  },
  {
   "cell_type": "code",
   "execution_count": 21,
   "metadata": {
    "collapsed": true
   },
   "outputs": [],
   "source": [
    "m = to_gpu(Upsample34(m_base))\n",
    "models = UpsampleModel(m)\n",
    "# m = DynamicUnet(m_base, n_classes=1) \n",
    "# inp = torch.ones(1,3,sz,sz)\n",
    "# out = m(V(inp).cpu())\n",
    "# m = m.cuda(0)\n",
    "# cut,cut_lr = model_meta[resnet18]\n",
    "# models = UpsampleModel(m,cut_lr)"
   ]
  },
  {
   "cell_type": "code",
   "execution_count": 22,
   "metadata": {
    "collapsed": true
   },
   "outputs": [],
   "source": [
    "learn = ConvLearner(md, models)\n",
    "learn.opt_fn=optim.Adam\n",
    "learn.crit=nn.BCEWithLogitsLoss()\n",
    "learn.metrics=[accuracy_thresh(0.5),dice]"
   ]
  },
  {
   "cell_type": "code",
   "execution_count": 23,
   "metadata": {
    "collapsed": true
   },
   "outputs": [],
   "source": [
    "learn.freeze_to(1)"
   ]
  },
  {
   "cell_type": "code",
   "execution_count": 25,
   "metadata": {},
   "outputs": [
    {
     "data": {
      "application/vnd.jupyter.widget-view+json": {
       "model_id": "bbe26c6f5c4c4df4a55a908325d6fa17",
       "version_major": 2,
       "version_minor": 0
      },
      "text/plain": [
       "HBox(children=(IntProgress(value=0, description='Epoch', max=1), HTML(value='')))"
      ]
     },
     "metadata": {},
     "output_type": "display_data"
    },
    {
     "name": "stdout",
     "output_type": "stream",
     "text": [
      " 95%|█████████▌| 19/20 [00:10<00:00,  2.33it/s, loss=1.71]"
     ]
    },
    {
     "data": {
      "image/png": "[encoded data removed]",
      "text/plain": [
       "<Figure size 432x288 with 1 Axes>"
      ]
     },
     "metadata": {
      "needs_background": "light"
     },
     "output_type": "display_data"
    }
   ],
   "source": [
    "learn.lr_find()\n",
    "learn.sched.plot()"
   ]
  },
  {
   "cell_type": "code",
   "execution_count": 26,
   "metadata": {
    "collapsed": true
   },
   "outputs": [],
   "source": [
    "lr=4e-2\n",
    "wd=1e-7\n",
    "lrs = np.array([lr/100,lr/10,lr])/2"
   ]
  },
  {
   "cell_type": "code",
   "execution_count": 27,
   "metadata": {},
   "outputs": [
    {
     "data": {
      "application/vnd.jupyter.widget-view+json": {
       "model_id": "6d15d478ad5145f89f40a42fd3d9e26c",
       "version_major": 2,
       "version_minor": 0
      },
      "text/plain": [
       "HBox(children=(IntProgress(value=0, description='Epoch', max=4), HTML(value='')))"
      ]
     },
     "metadata": {},
     "output_type": "display_data"
    },
    {
     "name": "stdout",
     "output_type": "stream",
     "text": [
      "epoch      trn_loss   val_loss   <lambda>   dice           \n",
      "    0      0.726354   2161.530892 0.730971   0.0       \n",
      "    1      0.632816   0.766028   0.730548   0.001576       \n",
      "    2      0.542218   0.580593   0.730507   0.016366       \n",
      "    3      0.462054   0.419916   0.79118    0.530263       \n"
     ]
    },
    {
     "data": {
      "text/plain": [
       "[0.4199161084493001, 0.7911800177892049, 0.5302630678812663]"
      ]
     },
     "execution_count": 27,
     "metadata": {},
     "output_type": "execute_result"
    }
   ],
   "source": [
    "learn.fit(lr,1, wds=wd, cycle_len=4,use_clr=(20,8))"
   ]
  },
  {
   "cell_type": "code",
   "execution_count": 28,
   "metadata": {
    "collapsed": true
   },
   "outputs": [],
   "source": [
    "learn.save('total_new_128')"
   ]
  },
  {
   "cell_type": "code",
   "execution_count": 29,
   "metadata": {
    "collapsed": true
   },
   "outputs": [],
   "source": [
    "x,y = next(iter(md.val_dl))\n",
    "py = to_np(learn.model(V(x)))"
   ]
  },
  {
   "cell_type": "code",
   "execution_count": 30,
   "metadata": {
    "collapsed": true
   },
   "outputs": [],
   "source": [
    "def show_img(im, figsize=None, ax=None, alpha=None):\n",
    "    if not ax: fig,ax = plt.subplots(figsize=figsize)\n",
    "    ax.imshow(im, alpha=alpha)\n",
    "    ax.set_axis_off()\n",
    "    return ax\n",
    "#show_img(py[4]>0);"
   ]
  },
  {
   "cell_type": "code",
   "execution_count": 31,
   "metadata": {},
   "outputs": [
    {
     "data": {
      "image/png": "[encoded data removed]",
      "text/plain": [
       "<Figure size 432x288 with 1 Axes>"
      ]
     },
     "metadata": {
      "needs_background": "light"
     },
     "output_type": "display_data"
    }
   ],
   "source": [
    "yy = y.cpu().numpy()\n",
    "show_img(yy[3]);"
   ]
  },
  {
   "cell_type": "code",
   "execution_count": 32,
   "metadata": {
    "collapsed": true
   },
   "outputs": [],
   "source": [
    "class SaveFeatures():\n",
    "    features=None\n",
    "    def __init__(self, m): self.hook = m.register_forward_hook(self.hook_fn)\n",
    "    def hook_fn(self, module, input, output): self.features = output\n",
    "    def remove(self): self.hook.remove()"
   ]
  },
  {
   "cell_type": "code",
   "execution_count": 33,
   "metadata": {
    "collapsed": true
   },
   "outputs": [],
   "source": [
    "class UnetBlock(nn.Module):\n",
    "    def __init__(self, up_in, x_in, n_out):\n",
    "        super().__init__()\n",
    "        up_out = x_out = n_out//2\n",
    "        self.x_conv  = nn.Conv2d(x_in,  x_out,  1)\n",
    "        self.tr_conv = nn.ConvTranspose2d(up_in, up_out, 2, stride=2)\n",
    "        self.bn = nn.BatchNorm2d(n_out)\n",
    "        \n",
    "    def forward(self, up_p, x_p):\n",
    "        up_p = self.tr_conv(up_p)\n",
    "        x_p = self.x_conv(x_p)\n",
    "        cat_p = torch.cat([up_p,x_p], dim=1)\n",
    "        return self.bn(F.relu(cat_p))"
   ]
  },
  {
   "cell_type": "code",
   "execution_count": 34,
   "metadata": {
    "collapsed": true
   },
   "outputs": [],
   "source": [
    "class Unet34(nn.Module):\n",
    "    def __init__(self, rn):\n",
    "        super().__init__()\n",
    "        self.rn = rn\n",
    "        self.sfs = [SaveFeatures(rn[i]) for i in [2,4,5,6]]\n",
    "        self.up1 = UnetBlock(512,256,256)\n",
    "        self.up2 = UnetBlock(256,128,256)\n",
    "        self.up3 = UnetBlock(256,64,256)\n",
    "        self.up4 = UnetBlock(256,64,256)\n",
    "        self.up5 = nn.ConvTranspose2d(256, 1, 2, stride=2)\n",
    "        \n",
    "    def forward(self,x):\n",
    "        x = F.relu(self.rn(x))\n",
    "        x = self.up1(x, self.sfs[3].features)\n",
    "        x = self.up2(x, self.sfs[2].features)\n",
    "        x = self.up3(x, self.sfs[1].features)\n",
    "        x = self.up4(x, self.sfs[0].features)\n",
    "        x = self.up5(x)\n",
    "        return x[:,0]\n",
    "    \n",
    "    def close(self):\n",
    "        for sf in self.sfs: sf.remove()"
   ]
  },
  {
   "cell_type": "code",
   "execution_count": 35,
   "metadata": {
    "collapsed": true
   },
   "outputs": [],
   "source": [
    "class UnetModel():\n",
    "    def __init__(self,model,name='unet'):\n",
    "        self.model,self.name = model,name\n",
    "\n",
    "    def get_layer_groups(self, precompute):\n",
    "        lgs = list(split_by_idxs(children(self.model.rn), [lr_cut]))\n",
    "        return lgs + [children(self.model)[1:]]"
   ]
  },
  {
   "cell_type": "code",
   "execution_count": 36,
   "metadata": {
    "collapsed": true
   },
   "outputs": [],
   "source": [
    "m_base = get_base()\n",
    "m = to_gpu(Unet34(m_base))\n",
    "models = UnetModel(m)"
   ]
  },
  {
   "cell_type": "code",
   "execution_count": 34,
   "metadata": {
    "collapsed": true
   },
   "outputs": [],
   "source": [
    "#torch.save(models,'test.pt')"
   ]
  },
  {
   "cell_type": "code",
   "execution_count": 37,
   "metadata": {
    "collapsed": true
   },
   "outputs": [],
   "source": [
    "learn = ConvLearner(md, models)\n",
    "learn.opt_fn=optim.Adam\n",
    "learn.crit=nn.BCEWithLogitsLoss()\n",
    "learn.metrics=[accuracy_thresh(0.5),dice]"
   ]
  },
  {
   "cell_type": "code",
   "execution_count": 38,
   "metadata": {},
   "outputs": [
    {
     "data": {
      "text/plain": [
       "OrderedDict([('Conv2d-1',\n",
       "              OrderedDict([('input_shape', [-1, 3, 128, 128]),\n",
       "                           ('output_shape', [-1, 64, 64, 64]),\n",
       "                           ('trainable', False),\n",
       "                           ('nb_params', tensor(9408))])),\n",
       "             ('BatchNorm2d-2',\n",
       "              OrderedDict([('input_shape', [-1, 64, 64, 64]),\n",
       "                           ('output_shape', [-1, 64, 64, 64]),\n",
       "                           ('trainable', False),\n",
       "                           ('nb_params', tensor(128))])),\n",
       "             ('ReLU-3',\n",
       "              OrderedDict([('input_shape', [-1, 64, 64, 64]),\n",
       "                           ('output_shape', [-1, 64, 64, 64]),\n",
       "                           ('nb_params', 0)])),\n",
       "             ('MaxPool2d-4',\n",
       "              OrderedDict([('input_shape', [-1, 64, 64, 64]),\n",
       "                           ('output_shape', [-1, 64, 32, 32]),\n",
       "                           ('nb_params', 0)])),\n",
       "             ('Conv2d-5',\n",
       "              OrderedDict([('input_shape', [-1, 64, 32, 32]),\n",
       "                           ('output_shape', [-1, 64, 32, 32]),\n",
       "                           ('trainable', False),\n",
       "                           ('nb_params', tensor(36864))])),\n",
       "             ('BatchNorm2d-6',\n",
       "              OrderedDict([('input_shape', [-1, 64, 32, 32]),\n",
       "                           ('output_shape', [-1, 64, 32, 32]),\n",
       "                           ('trainable', False),\n",
       "                           ('nb_params', tensor(128))])),\n",
       "             ('ReLU-7',\n",
       "              OrderedDict([('input_shape', [-1, 64, 32, 32]),\n",
       "                           ('output_shape', [-1, 64, 32, 32]),\n",
       "                           ('nb_params', 0)])),\n",
       "             ('Conv2d-8',\n",
       "              OrderedDict([('input_shape', [-1, 64, 32, 32]),\n",
       "                           ('output_shape', [-1, 64, 32, 32]),\n",
       "                           ('trainable', False),\n",
       "                           ('nb_params', tensor(36864))])),\n",
       "             ('BatchNorm2d-9',\n",
       "              OrderedDict([('input_shape', [-1, 64, 32, 32]),\n",
       "                           ('output_shape', [-1, 64, 32, 32]),\n",
       "                           ('trainable', False),\n",
       "                           ('nb_params', tensor(128))])),\n",
       "             ('ReLU-10',\n",
       "              OrderedDict([('input_shape', [-1, 64, 32, 32]),\n",
       "                           ('output_shape', [-1, 64, 32, 32]),\n",
       "                           ('nb_params', 0)])),\n",
       "             ('BasicBlock-11',\n",
       "              OrderedDict([('input_shape', [-1, 64, 32, 32]),\n",
       "                           ('output_shape', [-1, 64, 32, 32]),\n",
       "                           ('nb_params', 0)])),\n",
       "             ('Conv2d-12',\n",
       "              OrderedDict([('input_shape', [-1, 64, 32, 32]),\n",
       "                           ('output_shape', [-1, 64, 32, 32]),\n",
       "                           ('trainable', False),\n",
       "                           ('nb_params', tensor(36864))])),\n",
       "             ('BatchNorm2d-13',\n",
       "              OrderedDict([('input_shape', [-1, 64, 32, 32]),\n",
       "                           ('output_shape', [-1, 64, 32, 32]),\n",
       "                           ('trainable', False),\n",
       "                           ('nb_params', tensor(128))])),\n",
       "             ('ReLU-14',\n",
       "              OrderedDict([('input_shape', [-1, 64, 32, 32]),\n",
       "                           ('output_shape', [-1, 64, 32, 32]),\n",
       "                           ('nb_params', 0)])),\n",
       "             ('Conv2d-15',\n",
       "              OrderedDict([('input_shape', [-1, 64, 32, 32]),\n",
       "                           ('output_shape', [-1, 64, 32, 32]),\n",
       "                           ('trainable', False),\n",
       "                           ('nb_params', tensor(36864))])),\n",
       "             ('BatchNorm2d-16',\n",
       "              OrderedDict([('input_shape', [-1, 64, 32, 32]),\n",
       "                           ('output_shape', [-1, 64, 32, 32]),\n",
       "                           ('trainable', False),\n",
       "                           ('nb_params', tensor(128))])),\n",
       "             ('ReLU-17',\n",
       "              OrderedDict([('input_shape', [-1, 64, 32, 32]),\n",
       "                           ('output_shape', [-1, 64, 32, 32]),\n",
       "                           ('nb_params', 0)])),\n",
       "             ('BasicBlock-18',\n",
       "              OrderedDict([('input_shape', [-1, 64, 32, 32]),\n",
       "                           ('output_shape', [-1, 64, 32, 32]),\n",
       "                           ('nb_params', 0)])),\n",
       "             ('Conv2d-19',\n",
       "              OrderedDict([('input_shape', [-1, 64, 32, 32]),\n",
       "                           ('output_shape', [-1, 64, 32, 32]),\n",
       "                           ('trainable', False),\n",
       "                           ('nb_params', tensor(36864))])),\n",
       "             ('BatchNorm2d-20',\n",
       "              OrderedDict([('input_shape', [-1, 64, 32, 32]),\n",
       "                           ('output_shape', [-1, 64, 32, 32]),\n",
       "                           ('trainable', False),\n",
       "                           ('nb_params', tensor(128))])),\n",
       "             ('ReLU-21',\n",
       "              OrderedDict([('input_shape', [-1, 64, 32, 32]),\n",
       "                           ('output_shape', [-1, 64, 32, 32]),\n",
       "                           ('nb_params', 0)])),\n",
       "             ('Conv2d-22',\n",
       "              OrderedDict([('input_shape', [-1, 64, 32, 32]),\n",
       "                           ('output_shape', [-1, 64, 32, 32]),\n",
       "                           ('trainable', False),\n",
       "                           ('nb_params', tensor(36864))])),\n",
       "             ('BatchNorm2d-23',\n",
       "              OrderedDict([('input_shape', [-1, 64, 32, 32]),\n",
       "                           ('output_shape', [-1, 64, 32, 32]),\n",
       "                           ('trainable', False),\n",
       "                           ('nb_params', tensor(128))])),\n",
       "             ('ReLU-24',\n",
       "              OrderedDict([('input_shape', [-1, 64, 32, 32]),\n",
       "                           ('output_shape', [-1, 64, 32, 32]),\n",
       "                           ('nb_params', 0)])),\n",
       "             ('BasicBlock-25',\n",
       "              OrderedDict([('input_shape', [-1, 64, 32, 32]),\n",
       "                           ('output_shape', [-1, 64, 32, 32]),\n",
       "                           ('nb_params', 0)])),\n",
       "             ('Conv2d-26',\n",
       "              OrderedDict([('input_shape', [-1, 64, 32, 32]),\n",
       "                           ('output_shape', [-1, 128, 16, 16]),\n",
       "                           ('trainable', False),\n",
       "                           ('nb_params', tensor(73728))])),\n",
       "             ('BatchNorm2d-27',\n",
       "              OrderedDict([('input_shape', [-1, 128, 16, 16]),\n",
       "                           ('output_shape', [-1, 128, 16, 16]),\n",
       "                           ('trainable', False),\n",
       "                           ('nb_params', tensor(256))])),\n",
       "             ('ReLU-28',\n",
       "              OrderedDict([('input_shape', [-1, 128, 16, 16]),\n",
       "                           ('output_shape', [-1, 128, 16, 16]),\n",
       "                           ('nb_params', 0)])),\n",
       "             ('Conv2d-29',\n",
       "              OrderedDict([('input_shape', [-1, 128, 16, 16]),\n",
       "                           ('output_shape', [-1, 128, 16, 16]),\n",
       "                           ('trainable', False),\n",
       "                           ('nb_params', tensor(147456))])),\n",
       "             ('BatchNorm2d-30',\n",
       "              OrderedDict([('input_shape', [-1, 128, 16, 16]),\n",
       "                           ('output_shape', [-1, 128, 16, 16]),\n",
       "                           ('trainable', False),\n",
       "                           ('nb_params', tensor(256))])),\n",
       "             ('Conv2d-31',\n",
       "              OrderedDict([('input_shape', [-1, 64, 32, 32]),\n",
       "                           ('output_shape', [-1, 128, 16, 16]),\n",
       "                           ('trainable', False),\n",
       "                           ('nb_params', tensor(8192))])),\n",
       "             ('BatchNorm2d-32',\n",
       "              OrderedDict([('input_shape', [-1, 128, 16, 16]),\n",
       "                           ('output_shape', [-1, 128, 16, 16]),\n",
       "                           ('trainable', False),\n",
       "                           ('nb_params', tensor(256))])),\n",
       "             ('ReLU-33',\n",
       "              OrderedDict([('input_shape', [-1, 128, 16, 16]),\n",
       "                           ('output_shape', [-1, 128, 16, 16]),\n",
       "                           ('nb_params', 0)])),\n",
       "             ('BasicBlock-34',\n",
       "              OrderedDict([('input_shape', [-1, 64, 32, 32]),\n",
       "                           ('output_shape', [-1, 128, 16, 16]),\n",
       "                           ('nb_params', 0)])),\n",
       "             ('Conv2d-35',\n",
       "              OrderedDict([('input_shape', [-1, 128, 16, 16]),\n",
       "                           ('output_shape', [-1, 128, 16, 16]),\n",
       "                           ('trainable', False),\n",
       "                           ('nb_params', tensor(147456))])),\n",
       "             ('BatchNorm2d-36',\n",
       "              OrderedDict([('input_shape', [-1, 128, 16, 16]),\n",
       "                           ('output_shape', [-1, 128, 16, 16]),\n",
       "                           ('trainable', False),\n",
       "                           ('nb_params', tensor(256))])),\n",
       "             ('ReLU-37',\n",
       "              OrderedDict([('input_shape', [-1, 128, 16, 16]),\n",
       "                           ('output_shape', [-1, 128, 16, 16]),\n",
       "                           ('nb_params', 0)])),\n",
       "             ('Conv2d-38',\n",
       "              OrderedDict([('input_shape', [-1, 128, 16, 16]),\n",
       "                           ('output_shape', [-1, 128, 16, 16]),\n",
       "                           ('trainable', False),\n",
       "                           ('nb_params', tensor(147456))])),\n",
       "             ('BatchNorm2d-39',\n",
       "              OrderedDict([('input_shape', [-1, 128, 16, 16]),\n",
       "                           ('output_shape', [-1, 128, 16, 16]),\n",
       "                           ('trainable', False),\n",
       "                           ('nb_params', tensor(256))])),\n",
       "             ('ReLU-40',\n",
       "              OrderedDict([('input_shape', [-1, 128, 16, 16]),\n",
       "                           ('output_shape', [-1, 128, 16, 16]),\n",
       "                           ('nb_params', 0)])),\n",
       "             ('BasicBlock-41',\n",
       "              OrderedDict([('input_shape', [-1, 128, 16, 16]),\n",
       "                           ('output_shape', [-1, 128, 16, 16]),\n",
       "                           ('nb_params', 0)])),\n",
       "             ('Conv2d-42',\n",
       "              OrderedDict([('input_shape', [-1, 128, 16, 16]),\n",
       "                           ('output_shape', [-1, 128, 16, 16]),\n",
       "                           ('trainable', False),\n",
       "                           ('nb_params', tensor(147456))])),\n",
       "             ('BatchNorm2d-43',\n",
       "              OrderedDict([('input_shape', [-1, 128, 16, 16]),\n",
       "                           ('output_shape', [-1, 128, 16, 16]),\n",
       "                           ('trainable', False),\n",
       "                           ('nb_params', tensor(256))])),\n",
       "             ('ReLU-44',\n",
       "              OrderedDict([('input_shape', [-1, 128, 16, 16]),\n",
       "                           ('output_shape', [-1, 128, 16, 16]),\n",
       "                           ('nb_params', 0)])),\n",
       "             ('Conv2d-45',\n",
       "              OrderedDict([('input_shape', [-1, 128, 16, 16]),\n",
       "                           ('output_shape', [-1, 128, 16, 16]),\n",
       "                           ('trainable', False),\n",
       "                           ('nb_params', tensor(147456))])),\n",
       "             ('BatchNorm2d-46',\n",
       "              OrderedDict([('input_shape', [-1, 128, 16, 16]),\n",
       "                           ('output_shape', [-1, 128, 16, 16]),\n",
       "                           ('trainable', False),\n",
       "                           ('nb_params', tensor(256))])),\n",
       "             ('ReLU-47',\n",
       "              OrderedDict([('input_shape', [-1, 128, 16, 16]),\n",
       "                           ('output_shape', [-1, 128, 16, 16]),\n",
       "                           ('nb_params', 0)])),\n",
       "             ('BasicBlock-48',\n",
       "              OrderedDict([('input_shape', [-1, 128, 16, 16]),\n",
       "                           ('output_shape', [-1, 128, 16, 16]),\n",
       "                           ('nb_params', 0)])),\n",
       "             ('Conv2d-49',\n",
       "              OrderedDict([('input_shape', [-1, 128, 16, 16]),\n",
       "                           ('output_shape', [-1, 128, 16, 16]),\n",
       "                           ('trainable', False),\n",
       "                           ('nb_params', tensor(147456))])),\n",
       "             ('BatchNorm2d-50',\n",
       "              OrderedDict([('input_shape', [-1, 128, 16, 16]),\n",
       "                           ('output_shape', [-1, 128, 16, 16]),\n",
       "                           ('trainable', False),\n",
       "                           ('nb_params', tensor(256))])),\n",
       "             ('ReLU-51',\n",
       "              OrderedDict([('input_shape', [-1, 128, 16, 16]),\n",
       "                           ('output_shape', [-1, 128, 16, 16]),\n",
       "                           ('nb_params', 0)])),\n",
       "             ('Conv2d-52',\n",
       "              OrderedDict([('input_shape', [-1, 128, 16, 16]),\n",
       "                           ('output_shape', [-1, 128, 16, 16]),\n",
       "                           ('trainable', False),\n",
       "                           ('nb_params', tensor(147456))])),\n",
       "             ('BatchNorm2d-53',\n",
       "              OrderedDict([('input_shape', [-1, 128, 16, 16]),\n",
       "                           ('output_shape', [-1, 128, 16, 16]),\n",
       "                           ('trainable', False),\n",
       "                           ('nb_params', tensor(256))])),\n",
       "             ('ReLU-54',\n",
       "              OrderedDict([('input_shape', [-1, 128, 16, 16]),\n",
       "                           ('output_shape', [-1, 128, 16, 16]),\n",
       "                           ('nb_params', 0)])),\n",
       "             ('BasicBlock-55',\n",
       "              OrderedDict([('input_shape', [-1, 128, 16, 16]),\n",
       "                           ('output_shape', [-1, 128, 16, 16]),\n",
       "                           ('nb_params', 0)])),\n",
       "             ('Conv2d-56',\n",
       "              OrderedDict([('input_shape', [-1, 128, 16, 16]),\n",
       "                           ('output_shape', [-1, 256, 8, 8]),\n",
       "                           ('trainable', False),\n",
       "                           ('nb_params', tensor(294912))])),\n",
       "             ('BatchNorm2d-57',\n",
       "              OrderedDict([('input_shape', [-1, 256, 8, 8]),\n",
       "                           ('output_shape', [-1, 256, 8, 8]),\n",
       "                           ('trainable', False),\n",
       "                           ('nb_params', tensor(512))])),\n",
       "             ('ReLU-58',\n",
       "              OrderedDict([('input_shape', [-1, 256, 8, 8]),\n",
       "                           ('output_shape', [-1, 256, 8, 8]),\n",
       "                           ('nb_params', 0)])),\n",
       "             ('Conv2d-59',\n",
       "              OrderedDict([('input_shape', [-1, 256, 8, 8]),\n",
       "                           ('output_shape', [-1, 256, 8, 8]),\n",
       "                           ('trainable', False),\n",
       "                           ('nb_params', tensor(589824))])),\n",
       "             ('BatchNorm2d-60',\n",
       "              OrderedDict([('input_shape', [-1, 256, 8, 8]),\n",
       "                           ('output_shape', [-1, 256, 8, 8]),\n",
       "                           ('trainable', False),\n",
       "                           ('nb_params', tensor(512))])),\n",
       "             ('Conv2d-61',\n",
       "              OrderedDict([('input_shape', [-1, 128, 16, 16]),\n",
       "                           ('output_shape', [-1, 256, 8, 8]),\n",
       "                           ('trainable', False),\n",
       "                           ('nb_params', tensor(32768))])),\n",
       "             ('BatchNorm2d-62',\n",
       "              OrderedDict([('input_shape', [-1, 256, 8, 8]),\n",
       "                           ('output_shape', [-1, 256, 8, 8]),\n",
       "                           ('trainable', False),\n",
       "                           ('nb_params', tensor(512))])),\n",
       "             ('ReLU-63',\n",
       "              OrderedDict([('input_shape', [-1, 256, 8, 8]),\n",
       "                           ('output_shape', [-1, 256, 8, 8]),\n",
       "                           ('nb_params', 0)])),\n",
       "             ('BasicBlock-64',\n",
       "              OrderedDict([('input_shape', [-1, 128, 16, 16]),\n",
       "                           ('output_shape', [-1, 256, 8, 8]),\n",
       "                           ('nb_params', 0)])),\n",
       "             ('Conv2d-65',\n",
       "              OrderedDict([('input_shape', [-1, 256, 8, 8]),\n",
       "                           ('output_shape', [-1, 256, 8, 8]),\n",
       "                           ('trainable', False),\n",
       "                           ('nb_params', tensor(589824))])),\n",
       "             ('BatchNorm2d-66',\n",
       "              OrderedDict([('input_shape', [-1, 256, 8, 8]),\n",
       "                           ('output_shape', [-1, 256, 8, 8]),\n",
       "                           ('trainable', False),\n",
       "                           ('nb_params', tensor(512))])),\n",
       "             ('ReLU-67',\n",
       "              OrderedDict([('input_shape', [-1, 256, 8, 8]),\n",
       "                           ('output_shape', [-1, 256, 8, 8]),\n",
       "                           ('nb_params', 0)])),\n",
       "             ('Conv2d-68',\n",
       "              OrderedDict([('input_shape', [-1, 256, 8, 8]),\n",
       "                           ('output_shape', [-1, 256, 8, 8]),\n",
       "                           ('trainable', False),\n",
       "                           ('nb_params', tensor(589824))])),\n",
       "             ('BatchNorm2d-69',\n",
       "              OrderedDict([('input_shape', [-1, 256, 8, 8]),\n",
       "                           ('output_shape', [-1, 256, 8, 8]),\n",
       "                           ('trainable', False),\n",
       "                           ('nb_params', tensor(512))])),\n",
       "             ('ReLU-70',\n",
       "              OrderedDict([('input_shape', [-1, 256, 8, 8]),\n",
       "                           ('output_shape', [-1, 256, 8, 8]),\n",
       "                           ('nb_params', 0)])),\n",
       "             ('BasicBlock-71',\n",
       "              OrderedDict([('input_shape', [-1, 256, 8, 8]),\n",
       "                           ('output_shape', [-1, 256, 8, 8]),\n",
       "                           ('nb_params', 0)])),\n",
       "             ('Conv2d-72',\n",
       "              OrderedDict([('input_shape', [-1, 256, 8, 8]),\n",
       "                           ('output_shape', [-1, 256, 8, 8]),\n",
       "                           ('trainable', False),\n",
       "                           ('nb_params', tensor(589824))])),\n",
       "             ('BatchNorm2d-73',\n",
       "              OrderedDict([('input_shape', [-1, 256, 8, 8]),\n",
       "                           ('output_shape', [-1, 256, 8, 8]),\n",
       "                           ('trainable', False),\n",
       "                           ('nb_params', tensor(512))])),\n",
       "             ('ReLU-74',\n",
       "              OrderedDict([('input_shape', [-1, 256, 8, 8]),\n",
       "                           ('output_shape', [-1, 256, 8, 8]),\n",
       "                           ('nb_params', 0)])),\n",
       "             ('Conv2d-75',\n",
       "              OrderedDict([('input_shape', [-1, 256, 8, 8]),\n",
       "                           ('output_shape', [-1, 256, 8, 8]),\n",
       "                           ('trainable', False),\n",
       "                           ('nb_params', tensor(589824))])),\n",
       "             ('BatchNorm2d-76',\n",
       "              OrderedDict([('input_shape', [-1, 256, 8, 8]),\n",
       "                           ('output_shape', [-1, 256, 8, 8]),\n",
       "                           ('trainable', False),\n",
       "                           ('nb_params', tensor(512))])),\n",
       "             ('ReLU-77',\n",
       "              OrderedDict([('input_shape', [-1, 256, 8, 8]),\n",
       "                           ('output_shape', [-1, 256, 8, 8]),\n",
       "                           ('nb_params', 0)])),\n",
       "             ('BasicBlock-78',\n",
       "              OrderedDict([('input_shape', [-1, 256, 8, 8]),\n",
       "                           ('output_shape', [-1, 256, 8, 8]),\n",
       "                           ('nb_params', 0)])),\n",
       "             ('Conv2d-79',\n",
       "              OrderedDict([('input_shape', [-1, 256, 8, 8]),\n",
       "                           ('output_shape', [-1, 256, 8, 8]),\n",
       "                           ('trainable', False),\n",
       "                           ('nb_params', tensor(589824))])),\n",
       "             ('BatchNorm2d-80',\n",
       "              OrderedDict([('input_shape', [-1, 256, 8, 8]),\n",
       "                           ('output_shape', [-1, 256, 8, 8]),\n",
       "                           ('trainable', False),\n",
       "                           ('nb_params', tensor(512))])),\n",
       "             ('ReLU-81',\n",
       "              OrderedDict([('input_shape', [-1, 256, 8, 8]),\n",
       "                           ('output_shape', [-1, 256, 8, 8]),\n",
       "                           ('nb_params', 0)])),\n",
       "             ('Conv2d-82',\n",
       "              OrderedDict([('input_shape', [-1, 256, 8, 8]),\n",
       "                           ('output_shape', [-1, 256, 8, 8]),\n",
       "                           ('trainable', False),\n",
       "                           ('nb_params', tensor(589824))])),\n",
       "             ('BatchNorm2d-83',\n",
       "              OrderedDict([('input_shape', [-1, 256, 8, 8]),\n",
       "                           ('output_shape', [-1, 256, 8, 8]),\n",
       "                           ('trainable', False),\n",
       "                           ('nb_params', tensor(512))])),\n",
       "             ('ReLU-84',\n",
       "              OrderedDict([('input_shape', [-1, 256, 8, 8]),\n",
       "                           ('output_shape', [-1, 256, 8, 8]),\n",
       "                           ('nb_params', 0)])),\n",
       "             ('BasicBlock-85',\n",
       "              OrderedDict([('input_shape', [-1, 256, 8, 8]),\n",
       "                           ('output_shape', [-1, 256, 8, 8]),\n",
       "                           ('nb_params', 0)])),\n",
       "             ('Conv2d-86',\n",
       "              OrderedDict([('input_shape', [-1, 256, 8, 8]),\n",
       "                           ('output_shape', [-1, 256, 8, 8]),\n",
       "                           ('trainable', False),\n",
       "                           ('nb_params', tensor(589824))])),\n",
       "             ('BatchNorm2d-87',\n",
       "              OrderedDict([('input_shape', [-1, 256, 8, 8]),\n",
       "                           ('output_shape', [-1, 256, 8, 8]),\n",
       "                           ('trainable', False),\n",
       "                           ('nb_params', tensor(512))])),\n",
       "             ('ReLU-88',\n",
       "              OrderedDict([('input_shape', [-1, 256, 8, 8]),\n",
       "                           ('output_shape', [-1, 256, 8, 8]),\n",
       "                           ('nb_params', 0)])),\n",
       "             ('Conv2d-89',\n",
       "              OrderedDict([('input_shape', [-1, 256, 8, 8]),\n",
       "                           ('output_shape', [-1, 256, 8, 8]),\n",
       "                           ('trainable', False),\n",
       "                           ('nb_params', tensor(589824))])),\n",
       "             ('BatchNorm2d-90',\n",
       "              OrderedDict([('input_shape', [-1, 256, 8, 8]),\n",
       "                           ('output_shape', [-1, 256, 8, 8]),\n",
       "                           ('trainable', False),\n",
       "                           ('nb_params', tensor(512))])),\n",
       "             ('ReLU-91',\n",
       "              OrderedDict([('input_shape', [-1, 256, 8, 8]),\n",
       "                           ('output_shape', [-1, 256, 8, 8]),\n",
       "                           ('nb_params', 0)])),\n",
       "             ('BasicBlock-92',\n",
       "              OrderedDict([('input_shape', [-1, 256, 8, 8]),\n",
       "                           ('output_shape', [-1, 256, 8, 8]),\n",
       "                           ('nb_params', 0)])),\n",
       "             ('Conv2d-93',\n",
       "              OrderedDict([('input_shape', [-1, 256, 8, 8]),\n",
       "                           ('output_shape', [-1, 256, 8, 8]),\n",
       "                           ('trainable', False),\n",
       "                           ('nb_params', tensor(589824))])),\n",
       "             ('BatchNorm2d-94',\n",
       "              OrderedDict([('input_shape', [-1, 256, 8, 8]),\n",
       "                           ('output_shape', [-1, 256, 8, 8]),\n",
       "                           ('trainable', False),\n",
       "                           ('nb_params', tensor(512))])),\n",
       "             ('ReLU-95',\n",
       "              OrderedDict([('input_shape', [-1, 256, 8, 8]),\n",
       "                           ('output_shape', [-1, 256, 8, 8]),\n",
       "                           ('nb_params', 0)])),\n",
       "             ('Conv2d-96',\n",
       "              OrderedDict([('input_shape', [-1, 256, 8, 8]),\n",
       "                           ('output_shape', [-1, 256, 8, 8]),\n",
       "                           ('trainable', False),\n",
       "                           ('nb_params', tensor(589824))])),\n",
       "             ('BatchNorm2d-97',\n",
       "              OrderedDict([('input_shape', [-1, 256, 8, 8]),\n",
       "                           ('output_shape', [-1, 256, 8, 8]),\n",
       "                           ('trainable', False),\n",
       "                           ('nb_params', tensor(512))])),\n",
       "             ('ReLU-98',\n",
       "              OrderedDict([('input_shape', [-1, 256, 8, 8]),\n",
       "                           ('output_shape', [-1, 256, 8, 8]),\n",
       "                           ('nb_params', 0)])),\n",
       "             ('BasicBlock-99',\n",
       "              OrderedDict([('input_shape', [-1, 256, 8, 8]),\n",
       "                           ('output_shape', [-1, 256, 8, 8]),\n",
       "                           ('nb_params', 0)])),\n",
       "             ('Conv2d-100',\n",
       "              OrderedDict([('input_shape', [-1, 256, 8, 8]),\n",
       "                           ('output_shape', [-1, 512, 4, 4]),\n",
       "                           ('trainable', False),\n",
       "                           ('nb_params', tensor(1179648))])),\n",
       "             ('BatchNorm2d-101',\n",
       "              OrderedDict([('input_shape', [-1, 512, 4, 4]),\n",
       "                           ('output_shape', [-1, 512, 4, 4]),\n",
       "                           ('trainable', False),\n",
       "                           ('nb_params', tensor(1024))])),\n",
       "             ('ReLU-102',\n",
       "              OrderedDict([('input_shape', [-1, 512, 4, 4]),\n",
       "                           ('output_shape', [-1, 512, 4, 4]),\n",
       "                           ('nb_params', 0)])),\n",
       "             ('Conv2d-103',\n",
       "              OrderedDict([('input_shape', [-1, 512, 4, 4]),\n",
       "                           ('output_shape', [-1, 512, 4, 4]),\n",
       "                           ('trainable', False),\n",
       "                           ('nb_params', tensor(2359296))])),\n",
       "             ('BatchNorm2d-104',\n",
       "              OrderedDict([('input_shape', [-1, 512, 4, 4]),\n",
       "                           ('output_shape', [-1, 512, 4, 4]),\n",
       "                           ('trainable', False),\n",
       "                           ('nb_params', tensor(1024))])),\n",
       "             ('Conv2d-105',\n",
       "              OrderedDict([('input_shape', [-1, 256, 8, 8]),\n",
       "                           ('output_shape', [-1, 512, 4, 4]),\n",
       "                           ('trainable', False),\n",
       "                           ('nb_params', tensor(131072))])),\n",
       "             ('BatchNorm2d-106',\n",
       "              OrderedDict([('input_shape', [-1, 512, 4, 4]),\n",
       "                           ('output_shape', [-1, 512, 4, 4]),\n",
       "                           ('trainable', False),\n",
       "                           ('nb_params', tensor(1024))])),\n",
       "             ('ReLU-107',\n",
       "              OrderedDict([('input_shape', [-1, 512, 4, 4]),\n",
       "                           ('output_shape', [-1, 512, 4, 4]),\n",
       "                           ('nb_params', 0)])),\n",
       "             ('BasicBlock-108',\n",
       "              OrderedDict([('input_shape', [-1, 256, 8, 8]),\n",
       "                           ('output_shape', [-1, 512, 4, 4]),\n",
       "                           ('nb_params', 0)])),\n",
       "             ('Conv2d-109',\n",
       "              OrderedDict([('input_shape', [-1, 512, 4, 4]),\n",
       "                           ('output_shape', [-1, 512, 4, 4]),\n",
       "                           ('trainable', False),\n",
       "                           ('nb_params', tensor(2359296))])),\n",
       "             ('BatchNorm2d-110',\n",
       "              OrderedDict([('input_shape', [-1, 512, 4, 4]),\n",
       "                           ('output_shape', [-1, 512, 4, 4]),\n",
       "                           ('trainable', False),\n",
       "                           ('nb_params', tensor(1024))])),\n",
       "             ('ReLU-111',\n",
       "              OrderedDict([('input_shape', [-1, 512, 4, 4]),\n",
       "                           ('output_shape', [-1, 512, 4, 4]),\n",
       "                           ('nb_params', 0)])),\n",
       "             ('Conv2d-112',\n",
       "              OrderedDict([('input_shape', [-1, 512, 4, 4]),\n",
       "                           ('output_shape', [-1, 512, 4, 4]),\n",
       "                           ('trainable', False),\n",
       "                           ('nb_params', tensor(2359296))])),\n",
       "             ('BatchNorm2d-113',\n",
       "              OrderedDict([('input_shape', [-1, 512, 4, 4]),\n",
       "                           ('output_shape', [-1, 512, 4, 4]),\n",
       "                           ('trainable', False),\n",
       "                           ('nb_params', tensor(1024))])),\n",
       "             ('ReLU-114',\n",
       "              OrderedDict([('input_shape', [-1, 512, 4, 4]),\n",
       "                           ('output_shape', [-1, 512, 4, 4]),\n",
       "                           ('nb_params', 0)])),\n",
       "             ('BasicBlock-115',\n",
       "              OrderedDict([('input_shape', [-1, 512, 4, 4]),\n",
       "                           ('output_shape', [-1, 512, 4, 4]),\n",
       "                           ('nb_params', 0)])),\n",
       "             ('Conv2d-116',\n",
       "              OrderedDict([('input_shape', [-1, 512, 4, 4]),\n",
       "                           ('output_shape', [-1, 512, 4, 4]),\n",
       "                           ('trainable', False),\n",
       "                           ('nb_params', tensor(2359296))])),\n",
       "             ('BatchNorm2d-117',\n",
       "              OrderedDict([('input_shape', [-1, 512, 4, 4]),\n",
       "                           ('output_shape', [-1, 512, 4, 4]),\n",
       "                           ('trainable', False),\n",
       "                           ('nb_params', tensor(1024))])),\n",
       "             ('ReLU-118',\n",
       "              OrderedDict([('input_shape', [-1, 512, 4, 4]),\n",
       "                           ('output_shape', [-1, 512, 4, 4]),\n",
       "                           ('nb_params', 0)])),\n",
       "             ('Conv2d-119',\n",
       "              OrderedDict([('input_shape', [-1, 512, 4, 4]),\n",
       "                           ('output_shape', [-1, 512, 4, 4]),\n",
       "                           ('trainable', False),\n",
       "                           ('nb_params', tensor(2359296))])),\n",
       "             ('BatchNorm2d-120',\n",
       "              OrderedDict([('input_shape', [-1, 512, 4, 4]),\n",
       "                           ('output_shape', [-1, 512, 4, 4]),\n",
       "                           ('trainable', False),\n",
       "                           ('nb_params', tensor(1024))])),\n",
       "             ('ReLU-121',\n",
       "              OrderedDict([('input_shape', [-1, 512, 4, 4]),\n",
       "                           ('output_shape', [-1, 512, 4, 4]),\n",
       "                           ('nb_params', 0)])),\n",
       "             ('BasicBlock-122',\n",
       "              OrderedDict([('input_shape', [-1, 512, 4, 4]),\n",
       "                           ('output_shape', [-1, 512, 4, 4]),\n",
       "                           ('nb_params', 0)])),\n",
       "             ('ConvTranspose2d-123',\n",
       "              OrderedDict([('input_shape', [-1, 512, 4, 4]),\n",
       "                           ('output_shape', [-1, 128, 8, 8]),\n",
       "                           ('trainable', True),\n",
       "                           ('nb_params', tensor(262272))])),\n",
       "             ('Conv2d-124',\n",
       "              OrderedDict([('input_shape', [-1, 256, 8, 8]),\n",
       "                           ('output_shape', [-1, 128, 8, 8]),\n",
       "                           ('trainable', True),\n",
       "                           ('nb_params', tensor(32896))])),\n",
       "             ('BatchNorm2d-125',\n",
       "              OrderedDict([('input_shape', [-1, 256, 8, 8]),\n",
       "                           ('output_shape', [-1, 256, 8, 8]),\n",
       "                           ('trainable', True),\n",
       "                           ('nb_params', tensor(512))])),\n",
       "             ('UnetBlock-126',\n",
       "              OrderedDict([('input_shape', [-1, 512, 4, 4]),\n",
       "                           ('output_shape', [-1, 256, 8, 8]),\n",
       "                           ('nb_params', 0)])),\n",
       "             ('ConvTranspose2d-127',\n",
       "              OrderedDict([('input_shape', [-1, 256, 8, 8]),\n",
       "                           ('output_shape', [-1, 128, 16, 16]),\n",
       "                           ('trainable', True),\n",
       "                           ('nb_params', tensor(131200))])),\n",
       "             ('Conv2d-128',\n",
       "              OrderedDict([('input_shape', [-1, 128, 16, 16]),\n",
       "                           ('output_shape', [-1, 128, 16, 16]),\n",
       "                           ('trainable', True),\n",
       "                           ('nb_params', tensor(16512))])),\n",
       "             ('BatchNorm2d-129',\n",
       "              OrderedDict([('input_shape', [-1, 256, 16, 16]),\n",
       "                           ('output_shape', [-1, 256, 16, 16]),\n",
       "                           ('trainable', True),\n",
       "                           ('nb_params', tensor(512))])),\n",
       "             ('UnetBlock-130',\n",
       "              OrderedDict([('input_shape', [-1, 256, 8, 8]),\n",
       "                           ('output_shape', [-1, 256, 16, 16]),\n",
       "                           ('nb_params', 0)])),\n",
       "             ('ConvTranspose2d-131',\n",
       "              OrderedDict([('input_shape', [-1, 256, 16, 16]),\n",
       "                           ('output_shape', [-1, 128, 32, 32]),\n",
       "                           ('trainable', True),\n",
       "                           ('nb_params', tensor(131200))])),\n",
       "             ('Conv2d-132',\n",
       "              OrderedDict([('input_shape', [-1, 64, 32, 32]),\n",
       "                           ('output_shape', [-1, 128, 32, 32]),\n",
       "                           ('trainable', True),\n",
       "                           ('nb_params', tensor(8320))])),\n",
       "             ('BatchNorm2d-133',\n",
       "              OrderedDict([('input_shape', [-1, 256, 32, 32]),\n",
       "                           ('output_shape', [-1, 256, 32, 32]),\n",
       "                           ('trainable', True),\n",
       "                           ('nb_params', tensor(512))])),\n",
       "             ('UnetBlock-134',\n",
       "              OrderedDict([('input_shape', [-1, 256, 16, 16]),\n",
       "                           ('output_shape', [-1, 256, 32, 32]),\n",
       "                           ('nb_params', 0)])),\n",
       "             ('ConvTranspose2d-135',\n",
       "              OrderedDict([('input_shape', [-1, 256, 32, 32]),\n",
       "                           ('output_shape', [-1, 128, 64, 64]),\n",
       "                           ('trainable', True),\n",
       "                           ('nb_params', tensor(131200))])),\n",
       "             ('Conv2d-136',\n",
       "              OrderedDict([('input_shape', [-1, 64, 64, 64]),\n",
       "                           ('output_shape', [-1, 128, 64, 64]),\n",
       "                           ('trainable', True),\n",
       "                           ('nb_params', tensor(8320))])),\n",
       "             ('BatchNorm2d-137',\n",
       "              OrderedDict([('input_shape', [-1, 256, 64, 64]),\n",
       "                           ('output_shape', [-1, 256, 64, 64]),\n",
       "                           ('trainable', True),\n",
       "                           ('nb_params', tensor(512))])),\n",
       "             ('UnetBlock-138',\n",
       "              OrderedDict([('input_shape', [-1, 256, 32, 32]),\n",
       "                           ('output_shape', [-1, 256, 64, 64]),\n",
       "                           ('nb_params', 0)])),\n",
       "             ('ConvTranspose2d-139',\n",
       "              OrderedDict([('input_shape', [-1, 256, 64, 64]),\n",
       "                           ('output_shape', [-1, 1, 128, 128]),\n",
       "                           ('trainable', True),\n",
       "                           ('nb_params', tensor(1025))]))])"
      ]
     },
     "execution_count": 38,
     "metadata": {},
     "output_type": "execute_result"
    }
   ],
   "source": [
    "learn.summary()"
   ]
  },
  {
   "cell_type": "code",
   "execution_count": 39,
   "metadata": {},
   "outputs": [
    {
     "data": {
      "text/plain": [
       "[torch.Size([3, 64, 64, 64]),\n",
       " torch.Size([3, 64, 32, 32]),\n",
       " torch.Size([3, 128, 16, 16]),\n",
       " torch.Size([3, 256, 8, 8])]"
      ]
     },
     "execution_count": 39,
     "metadata": {},
     "output_type": "execute_result"
    }
   ],
   "source": [
    "[o.features.size() for o in m.sfs]"
   ]
  },
  {
   "cell_type": "code",
   "execution_count": 40,
   "metadata": {
    "collapsed": true
   },
   "outputs": [],
   "source": [
    "learn.freeze_to(1)"
   ]
  },
  {
   "cell_type": "code",
   "execution_count": 41,
   "metadata": {},
   "outputs": [
    {
     "data": {
      "application/vnd.jupyter.widget-view+json": {
       "model_id": "27fee4cc8af9466f95a86ba86ab6cf39",
       "version_major": 2,
       "version_minor": 0
      },
      "text/plain": [
       "HBox(children=(IntProgress(value=0, description='Epoch', max=1), HTML(value='')))"
      ]
     },
     "metadata": {},
     "output_type": "display_data"
    },
    {
     "name": "stdout",
     "output_type": "stream",
     "text": [
      " 95%|█████████▌| 19/20 [00:09<00:00,  2.44it/s, loss=1.57] "
     ]
    },
    {
     "data": {
      "image/png": "[encoded data removed]",
      "text/plain": [
       "<Figure size 432x288 with 1 Axes>"
      ]
     },
     "metadata": {
      "needs_background": "light"
     },
     "output_type": "display_data"
    }
   ],
   "source": [
    "learn.lr_find()\n",
    "learn.sched.plot()"
   ]
  },
  {
   "cell_type": "code",
   "execution_count": 42,
   "metadata": {
    "collapsed": true
   },
   "outputs": [],
   "source": [
    "lr=4e-2\n",
    "wd=1e-7\n",
    "\n",
    "lrs = np.array([lr/100,lr/10,lr])"
   ]
  },
  {
   "cell_type": "code",
   "execution_count": 43,
   "metadata": {},
   "outputs": [
    {
     "data": {
      "application/vnd.jupyter.widget-view+json": {
       "model_id": "91b073dfaa614e4b811a5817cf89bad0",
       "version_major": 2,
       "version_minor": 0
      },
      "text/plain": [
       "HBox(children=(IntProgress(value=0, description='Epoch', max=8), HTML(value='')))"
      ]
     },
     "metadata": {},
     "output_type": "display_data"
    },
    {
     "name": "stdout",
     "output_type": "stream",
     "text": [
      "epoch      trn_loss   val_loss   <lambda>   dice           \n",
      "    0      0.42146    47.155386  0.328344   0.440269  \n",
      "    1      0.307412   0.282487   0.901459   0.818252       \n",
      "    2      0.257244   0.214743   0.90144    0.82092        \n",
      "    3      0.224782   0.259653   0.883921   0.779398       \n",
      "    4      0.202286   0.208456   0.906795   0.831115       \n",
      "    5      0.185744   0.192722   0.918567   0.851526       \n",
      "    6      0.171873   0.177622   0.923835   0.861999       \n",
      "    7      0.159403   0.194048   0.917439   0.84889        \n"
     ]
    },
    {
     "data": {
      "text/plain": [
       "[0.19404782652854918, 0.91743896484375, 0.8488902139663697]"
      ]
     },
     "execution_count": 43,
     "metadata": {},
     "output_type": "execute_result"
    }
   ],
   "source": [
    "learn.fit(lr,1,wds=wd,cycle_len=8,use_clr=(5,8))"
   ]
  },
  {
   "cell_type": "code",
   "execution_count": 44,
   "metadata": {},
   "outputs": [
    {
     "data": {
      "image/png": "[encoded data removed]",
      "text/plain": [
       "<Figure size 432x288 with 1 Axes>"
      ]
     },
     "metadata": {
      "needs_background": "light"
     },
     "output_type": "display_data"
    }
   ],
   "source": [
    "learn.sched.plot_loss()\n",
    "#learn.sched.plot_loss\n",
    "loss_1 = learn.sched.losses"
   ]
  },
  {
   "cell_type": "code",
   "execution_count": 45,
   "metadata": {
    "collapsed": true
   },
   "outputs": [],
   "source": [
    "learn.save('total_new_128urn-tmp')"
   ]
  },
  {
   "cell_type": "code",
   "execution_count": 46,
   "metadata": {
    "collapsed": true
   },
   "outputs": [],
   "source": [
    "learn.load('total_new_128urn-tmp')"
   ]
  },
  {
   "cell_type": "code",
   "execution_count": 47,
   "metadata": {
    "collapsed": true
   },
   "outputs": [],
   "source": [
    "learn.unfreeze()\n",
    "learn.bn_freeze(True)"
   ]
  },
  {
   "cell_type": "code",
   "execution_count": 48,
   "metadata": {},
   "outputs": [
    {
     "data": {
      "application/vnd.jupyter.widget-view+json": {
       "model_id": "de010da2c3ab4d76aa2e41ea0f2445f5",
       "version_major": 2,
       "version_minor": 0
      },
      "text/plain": [
       "HBox(children=(IntProgress(value=0, description='Epoch', max=20), HTML(value='')))"
      ]
     },
     "metadata": {},
     "output_type": "display_data"
    },
    {
     "name": "stdout",
     "output_type": "stream",
     "text": [
      "epoch      trn_loss   val_loss   <lambda>   dice           \n",
      "    0      0.125775   0.183313   0.921983   0.85941   \n",
      "    1      0.125689   0.178495   0.927293   0.866801       \n",
      "    2      0.123852   0.18003    0.929409   0.86819        \n",
      "    3      0.121421   0.21324    0.912881   0.840414       \n",
      "    4      0.119469   0.181302   0.926482   0.86598        \n",
      "    5      0.11729    0.169838   0.931179   0.874561       \n",
      "    6      0.114121   0.181514   0.932213   0.874917       \n",
      "    7      0.110377   0.181854   0.928925   0.870282       \n",
      "    8      0.107378   0.190351   0.929708   0.869712       \n",
      "    9      0.104612   0.181484   0.932546   0.875965       \n",
      "    10     0.10189    0.180146   0.934123   0.877668       \n",
      "    11     0.099768   0.17873    0.934358   0.878965        \n",
      "    12     0.097993   0.189889   0.93233    0.874274        \n",
      "    13     0.095924   0.178789   0.936189   0.882085        \n",
      "    14     0.09479    0.174583   0.934897   0.880492        \n",
      "    15     0.093305   0.183308   0.935083   0.879692        \n",
      "    16     0.092003   0.17704    0.936383   0.881768        \n",
      "    17     0.090809   0.181693   0.935215   0.880294        \n",
      "    18     0.089967   0.182073   0.935989   0.881369        \n",
      "    19     0.089206   0.182638   0.934618   0.879579        \n"
     ]
    },
    {
     "data": {
      "text/plain": [
       "[0.18263814667860667, 0.9346175154050191, 0.8795785943667094]"
      ]
     },
     "execution_count": 48,
     "metadata": {},
     "output_type": "execute_result"
    }
   ],
   "source": [
    "learn.fit(lrs/4, 1, wds=wd, cycle_len=20,use_clr=(20,10))"
   ]
  },
  {
   "cell_type": "code",
   "execution_count": 49,
   "metadata": {},
   "outputs": [
    {
     "data": {
      "image/png": "[encoded data removed]",
      "text/plain": [
       "<Figure size 432x288 with 1 Axes>"
      ]
     },
     "metadata": {
      "needs_background": "light"
     },
     "output_type": "display_data"
    }
   ],
   "source": [
    "learn.sched.plot_loss()\n",
    "#learn.sched.plot_loss\n",
    "loss_2 = learn.sched.losses\n",
    "learn.save('total_best_128urn-0')"
   ]
  },
  {
   "cell_type": "code",
   "execution_count": 50,
   "metadata": {
    "collapsed": true
   },
   "outputs": [],
   "source": [
    "learn.load('total_best_128urn-0')"
   ]
  },
  {
   "cell_type": "code",
   "execution_count": 51,
   "metadata": {
    "collapsed": true
   },
   "outputs": [],
   "source": [
    "x,y = next(iter(md.val_dl))\n",
    "py = to_np(learn.model(V(x)))"
   ]
  },
  {
   "cell_type": "code",
   "execution_count": 66,
   "metadata": {},
   "outputs": [
    {
     "data": {
      "image/png": "[encoded data removed]",
      "text/plain": [
       "<Figure size 432x288 with 1 Axes>"
      ]
     },
     "metadata": {
      "needs_background": "light"
     },
     "output_type": "display_data"
    }
   ],
   "source": [
    "show_img(py[8]>0);"
   ]
  },
  {
   "cell_type": "code",
   "execution_count": 67,
   "metadata": {},
   "outputs": [
    {
     "data": {
      "image/png": "[encoded data removed]",
      "text/plain": [
       "<Figure size 432x288 with 1 Axes>"
      ]
     },
     "metadata": {
      "needs_background": "light"
     },
     "output_type": "display_data"
    }
   ],
   "source": [
    "show_img(yy[8]);"
   ]
  },
  {
   "cell_type": "code",
   "execution_count": 68,
   "metadata": {
    "collapsed": true
   },
   "outputs": [],
   "source": [
    "m.close()"
   ]
  },
  {
   "cell_type": "code",
   "execution_count": 69,
   "metadata": {
    "collapsed": true
   },
   "outputs": [],
   "source": [
    "sz=512\n",
    "bs=16"
   ]
  },
  {
   "cell_type": "code",
   "execution_count": 70,
   "metadata": {
    "collapsed": true
   },
   "outputs": [],
   "source": [
    "tfms = tfms_from_model(resnet34, sz, crop_type=CropType.NO, tfm_y=TfmType.CLASS, aug_tfms=aug_tfms)\n",
    "datasets = ImageData.get_ds(MatchedFilesDataset, (trn_x,trn_y), (val_x,val_y), tfms, path=PATH)\n",
    "md = ImageData(PATH, datasets, bs, num_workers=4, classes=None)\n",
    "denorm = md.trn_ds.denorm"
   ]
  },
  {
   "cell_type": "code",
   "execution_count": 71,
   "metadata": {
    "collapsed": true
   },
   "outputs": [],
   "source": [
    "m_base = get_base()\n",
    "m = to_gpu(Unet34(m_base))\n",
    "models = UnetModel(m)\n"
   ]
  },
  {
   "cell_type": "code",
   "execution_count": 72,
   "metadata": {
    "collapsed": true
   },
   "outputs": [],
   "source": [
    "learn = ConvLearner(md, models)\n",
    "learn.opt_fn=optim.Adam\n",
    "learn.crit=nn.BCEWithLogitsLoss()\n",
    "learn.metrics=[accuracy_thresh(0.5),dice]"
   ]
  },
  {
   "cell_type": "code",
   "execution_count": 73,
   "metadata": {
    "collapsed": true
   },
   "outputs": [],
   "source": [
    "learn.freeze_to(1)"
   ]
  },
  {
   "cell_type": "code",
   "execution_count": 74,
   "metadata": {
    "collapsed": true
   },
   "outputs": [],
   "source": [
    "learn.load('total_best_128urn-0')"
   ]
  },
  {
   "cell_type": "code",
   "execution_count": 75,
   "metadata": {},
   "outputs": [
    {
     "data": {
      "application/vnd.jupyter.widget-view+json": {
       "model_id": "5c60099d99f046db89365683f9bc8b98",
       "version_major": 2,
       "version_minor": 0
      },
      "text/plain": [
       "HBox(children=(IntProgress(value=0, description='Epoch', max=5), HTML(value='')))"
      ]
     },
     "metadata": {},
     "output_type": "display_data"
    },
    {
     "name": "stdout",
     "output_type": "stream",
     "text": [
      "epoch      trn_loss   val_loss   <lambda>   dice           \n",
      "    0      0.231891   0.446774   0.85557    0.745013  \n",
      "    1      0.203392   0.21216    0.921633   0.854178       \n",
      "    2      0.174959   0.181295   0.92753    0.863925       \n",
      "    3      0.160433   0.185096   0.931365   0.870429       \n",
      "    4      0.136142   0.154331   0.934501   0.879653       \n"
     ]
    },
    {
     "data": {
      "text/plain": [
       "[0.15433100382486978, 0.9345007467269898, 0.8796533703804016]"
      ]
     },
     "execution_count": 75,
     "metadata": {},
     "output_type": "execute_result"
    }
   ],
   "source": [
    "learn.fit(lr,1,wds=wd, cycle_len=5,use_clr=(5,5))"
   ]
  },
  {
   "cell_type": "code",
   "execution_count": 76,
   "metadata": {},
   "outputs": [
    {
     "data": {
      "image/png": "[encoded data removed]",
      "text/plain": [
       "<Figure size 432x288 with 1 Axes>"
      ]
     },
     "metadata": {
      "needs_background": "light"
     },
     "output_type": "display_data"
    }
   ],
   "source": [
    "learn.sched.plot_loss()\n",
    "#learn.sched.plot_loss\n",
    "loss_3 = learn.sched.losses"
   ]
  },
  {
   "cell_type": "code",
   "execution_count": 77,
   "metadata": {
    "collapsed": true
   },
   "outputs": [],
   "source": [
    "learn.save('total_new_512urn-tmp')"
   ]
  },
  {
   "cell_type": "code",
   "execution_count": 78,
   "metadata": {
    "collapsed": true
   },
   "outputs": [],
   "source": [
    "learn.unfreeze()\n",
    "learn.bn_freeze(True)"
   ]
  },
  {
   "cell_type": "code",
   "execution_count": 80,
   "metadata": {
    "collapsed": true
   },
   "outputs": [],
   "source": [
    "learn.load('total_new_512urn-tmp')"
   ]
  },
  {
   "cell_type": "code",
   "execution_count": 81,
   "metadata": {
    "scrolled": true
   },
   "outputs": [
    {
     "data": {
      "application/vnd.jupyter.widget-view+json": {
       "model_id": "771758631b1244c69634f615c4a139f3",
       "version_major": 2,
       "version_minor": 0
      },
      "text/plain": [
       "HBox(children=(IntProgress(value=0, description='Epoch', max=8), HTML(value='')))"
      ]
     },
     "metadata": {},
     "output_type": "display_data"
    },
    {
     "name": "stdout",
     "output_type": "stream",
     "text": [
      "epoch      trn_loss   val_loss   <lambda>   dice           \n",
      "    0      0.114884   0.15569    0.936634   0.882953  \n",
      "    1      0.122543   0.170177   0.936998   0.878821       \n",
      "    2      0.126057   0.147986   0.940001   0.890535       \n",
      "    3      0.107629   0.144422   0.942798   0.894815       \n",
      "    4      0.10069    0.141529   0.943052   0.895558       \n",
      "    5      0.094389   0.142695   0.94274    0.895115        \n",
      "    6      0.091425   0.141518   0.943536   0.896473        \n",
      "    7      0.08883    0.140581   0.944209   0.897694        \n"
     ]
    },
    {
     "data": {
      "text/plain": [
       "[0.14058138052622476, 0.9442093785603841, 0.8976940560340881]"
      ]
     },
     "execution_count": 81,
     "metadata": {},
     "output_type": "execute_result"
    }
   ],
   "source": [
    "learn.fit(lrs/4,1,wds=wd, cycle_len=8,use_clr=(20,8))"
   ]
  },
  {
   "cell_type": "code",
   "execution_count": 82,
   "metadata": {},
   "outputs": [
    {
     "data": {
      "image/png": "[encoded data removed]",
      "text/plain": [
       "<Figure size 432x288 with 1 Axes>"
      ]
     },
     "metadata": {
      "needs_background": "light"
     },
     "output_type": "display_data"
    }
   ],
   "source": [
    "learn.sched.plot_loss()\n",
    "#learn.sched.plot_loss\n",
    "loss_4 = learn.sched.losses"
   ]
  },
  {
   "cell_type": "code",
   "execution_count": 83,
   "metadata": {
    "collapsed": true
   },
   "outputs": [],
   "source": [
    "learn.save('total_best_512urn')"
   ]
  },
  {
   "cell_type": "code",
   "execution_count": 84,
   "metadata": {
    "collapsed": true
   },
   "outputs": [],
   "source": [
    "learn.load('total_best_512urn')\n"
   ]
  },
  {
   "cell_type": "code",
   "execution_count": 85,
   "metadata": {
    "collapsed": true
   },
   "outputs": [],
   "source": [
    "x,y = next(iter(md.val_dl))\n",
    "py = to_np(learn.model(V(x)))"
   ]
  },
  {
   "cell_type": "code",
   "execution_count": 104,
   "metadata": {},
   "outputs": [
    {
     "data": {
      "image/png": "[encoded data removed]",
      "text/plain": [
       "<Figure size 432x288 with 1 Axes>"
      ]
     },
     "metadata": {
      "needs_background": "light"
     },
     "output_type": "display_data"
    }
   ],
   "source": [
    "show_img(py[8]>0);"
   ]
  },
  {
   "cell_type": "code",
   "execution_count": 105,
   "metadata": {},
   "outputs": [
    {
     "data": {
      "image/png": "[encoded data removed]",
      "text/plain": [
       "<Figure size 432x288 with 1 Axes>"
      ]
     },
     "metadata": {
      "needs_background": "light"
     },
     "output_type": "display_data"
    }
   ],
   "source": [
    "show_img(yy[8]);"
   ]
  },
  {
   "cell_type": "code",
   "execution_count": 106,
   "metadata": {},
   "outputs": [
    {
     "data": {
      "image/png": "[encoded data removed]",
      "text/plain": [
       "<Figure size 432x288 with 1 Axes>"
      ]
     },
     "metadata": {
      "needs_background": "light"
     },
     "output_type": "display_data"
    }
   ],
   "source": [
    "learn.sched.plot_loss()"
   ]
  },
  {
   "cell_type": "code",
   "execution_count": 107,
   "metadata": {
    "collapsed": true
   },
   "outputs": [],
   "source": [
    "learn.load('total_best_512urn')"
   ]
  },
  {
   "cell_type": "code",
   "execution_count": 108,
   "metadata": {},
   "outputs": [
    {
     "data": {
      "application/vnd.jupyter.widget-view+json": {
       "model_id": "18285b781f9945c2a221774e6cf3333b",
       "version_major": 2,
       "version_minor": 0
      },
      "text/plain": [
       "HBox(children=(IntProgress(value=0, description='Epoch', max=8), HTML(value='')))"
      ]
     },
     "metadata": {},
     "output_type": "display_data"
    },
    {
     "name": "stdout",
     "output_type": "stream",
     "text": [
      "epoch      trn_loss   val_loss   <lambda>   dice            \n",
      "    0      0.099604   0.142734   0.938946   0.890299  \n",
      "    1      0.105067   0.147024   0.938925   0.888574        \n",
      "    2      0.099322   0.15307    0.937919   0.887423        \n",
      "    3      0.092038   0.169067   0.940824   0.888167        \n",
      "    4      0.088067   0.148968   0.942527   0.892744        \n",
      "    5      0.085447   0.149176   0.943417   0.895336        \n",
      "    6      0.081284   0.154304   0.942771   0.893211        \n",
      "    7      0.080021   0.147777   0.943977   0.8964          \n"
     ]
    },
    {
     "data": {
      "text/plain": [
       "[0.14777737180391948, 0.9439767336845398, 0.8964001528422038]"
      ]
     },
     "execution_count": 108,
     "metadata": {},
     "output_type": "execute_result"
    }
   ],
   "source": [
    "learn.fit(lrs/4,1,wds=wd, cycle_len=8,use_clr=(20,8))"
   ]
  },
  {
   "cell_type": "code",
   "execution_count": 109,
   "metadata": {},
   "outputs": [
    {
     "data": {
      "image/png": "[encoded data removed]",
      "text/plain": [
       "<Figure size 432x288 with 1 Axes>"
      ]
     },
     "metadata": {
      "needs_background": "light"
     },
     "output_type": "display_data"
    }
   ],
   "source": [
    "learn.sched.plot_loss()\n",
    "#learn.sched.plot_loss\n",
    "loss_5 = learn.sched.losses\n",
    "learn.save('total_best_512')\n",
    "#torch.save(models,'test.h5')"
   ]
  },
  {
   "cell_type": "code",
   "execution_count": 113,
   "metadata": {},
   "outputs": [
    {
     "name": "stdout",
     "output_type": "stream",
     "text": [
      "160\n",
      "400\n",
      "390\n",
      "624\n",
      "624\n"
     ]
    }
   ],
   "source": [
    "#print(len(loss_0))\n",
    "print(len(loss_1))\n",
    "print(len(loss_2))\n",
    "print(len(loss_3))\n",
    "print(len(loss_4))\n",
    "print(len(loss_5))"
   ]
  },
  {
   "cell_type": "code",
   "execution_count": 114,
   "metadata": {
    "collapsed": true
   },
   "outputs": [],
   "source": [
    "#print(type(loss_1))\n",
    "arr_1 = np.array(loss_1)\n",
    "arr_1 = np.resize(arr_1,(120,1))\n",
    "\n",
    "arr_2 = np.array(loss_2)\n",
    "arr_2 = np.resize(arr_2,(120,1))\n",
    "\n",
    "arr_3 = np.array(loss_3)\n",
    "arr_3 = np.resize(arr_3,(120,1))\n",
    "\n",
    "arr_4 = np.array(loss_4)\n",
    "arr_4 = np.resize(arr_4,(120,1))\n",
    "\n",
    "arr_5 = np.array(loss_5)\n",
    "arr_5 = np.resize(arr_5,(120,1))\n",
    "np.save('arr_1.npy',arr_1)\n",
    "np.save('arr_2.npy',arr_2)\n",
    "np.save('arr_3.npy',arr_3)\n",
    "np.save('arr_4.npy',arr_4)\n",
    "#np.save('arr_1.npy',arr_1)"
   ]
  },
  {
   "cell_type": "code",
   "execution_count": 112,
   "metadata": {},
   "outputs": [
    {
     "data": {
      "image/png": "[encoded data removed]",
      "text/plain": [
       "<Figure size 432x288 with 1 Axes>"
      ]
     },
     "metadata": {
      "needs_background": "light"
     },
     "output_type": "display_data"
    }
   ],
   "source": [
    "import matplotlib.pyplot as plt\n",
    "plt.plot(arr_1,c='r',label = 'resnet_34_128_pretained')\n",
    "plt.plot(arr_2,c='b',label = 'resnet_34_512_pretained')\n",
    "plt.plot(arr_3,c='g',label = 'resnet_34_128')\n",
    "plt.plot(arr_4,c='y',label = 'resnet_34_512')\n",
    "plt.ylabel('loss')\n",
    "plt.xlabel('epoch')\n",
    "#plt.plot(arr_5,c='black')\n",
    "plt.legend()\n",
    "plt.savefig('loss.png')\n",
    "plt.show()\n",
    "\n"
   ]
  },
  {
   "cell_type": "code",
   "execution_count": null,
   "metadata": {
    "collapsed": true
   },
   "outputs": [],
   "source": []
  }
 ],
 "metadata": {
  "kernelspec": {
   "display_name": "Python 3",
   "language": "python",
   "name": "python3"
  },
  "language_info": {
   "codemirror_mode": {
    "name": "ipython",
    "version": 3
   },
   "file_extension": ".py",
   "mimetype": "text/x-python",
   "name": "python",
   "nbconvert_exporter": "python",
   "pygments_lexer": "ipython3",
   "version": "3.5.3"
  }
 },
 "nbformat": 4,
 "nbformat_minor": 2
}
